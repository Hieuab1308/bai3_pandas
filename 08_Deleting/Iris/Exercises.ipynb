{
 "cells": [
  {
   "cell_type": "markdown",
   "metadata": {
    "pycharm": {
     "name": "#%% md\n"
    }
   },
   "source": [
    "# Iris"
   ]
  },
  {
   "cell_type": "markdown",
   "metadata": {
    "pycharm": {
     "name": "#%% md\n"
    }
   },
   "source": [
    "### Introduction:\n",
    "\n",
    "This exercise may seem a little bit strange, but keep doing it.\n",
    "\n",
    "### Step 1. Import the necessary libraries"
   ]
  },
  {
   "cell_type": "code",
   "metadata": {
    "collapsed": false,
    "pycharm": {
     "name": "#%%\n"
    },
    "ExecuteTime": {
     "end_time": "2025-05-14T03:25:39.342357Z",
     "start_time": "2025-05-14T03:25:39.339309Z"
    }
   },
   "source": [
    "import pandas as pd\n",
    "import numpy as np\n",
    "import matplotlib.pyplot as plt"
   ],
   "outputs": [],
   "execution_count": 3
  },
  {
   "cell_type": "markdown",
   "metadata": {
    "pycharm": {
     "name": "#%% md\n"
    }
   },
   "source": [
    "### Step 2. Import the dataset from this [address](https://archive.ics.uci.edu/ml/machine-learning-databases/iris/iris.data). "
   ]
  },
  {
   "cell_type": "markdown",
   "metadata": {
    "pycharm": {
     "name": "#%% md\n"
    }
   },
   "source": [
    "### Step 3. Assign it to a variable called iris"
   ]
  },
  {
   "cell_type": "code",
   "metadata": {
    "collapsed": false,
    "pycharm": {
     "name": "#%%\n"
    },
    "ExecuteTime": {
     "end_time": "2025-05-14T03:26:41.201343Z",
     "start_time": "2025-05-14T03:26:40.610111Z"
    }
   },
   "source": [
    "url = \"https://archive.ics.uci.edu/ml/machine-learning-databases/iris/iris.data\"\n",
    "iris = pd.read_csv(url)\n",
    "print(iris)"
   ],
   "outputs": [
    {
     "name": "stdout",
     "output_type": "stream",
     "text": [
      "     5.1  3.5  1.4  0.2     Iris-setosa\n",
      "0    4.9  3.0  1.4  0.2     Iris-setosa\n",
      "1    4.7  3.2  1.3  0.2     Iris-setosa\n",
      "2    4.6  3.1  1.5  0.2     Iris-setosa\n",
      "3    5.0  3.6  1.4  0.2     Iris-setosa\n",
      "4    5.4  3.9  1.7  0.4     Iris-setosa\n",
      "..   ...  ...  ...  ...             ...\n",
      "144  6.7  3.0  5.2  2.3  Iris-virginica\n",
      "145  6.3  2.5  5.0  1.9  Iris-virginica\n",
      "146  6.5  3.0  5.2  2.0  Iris-virginica\n",
      "147  6.2  3.4  5.4  2.3  Iris-virginica\n",
      "148  5.9  3.0  5.1  1.8  Iris-virginica\n",
      "\n",
      "[149 rows x 5 columns]\n"
     ]
    }
   ],
   "execution_count": 6
  },
  {
   "cell_type": "markdown",
   "metadata": {
    "pycharm": {
     "name": "#%% md\n"
    }
   },
   "source": [
    "### Step 4. Create columns for the dataset"
   ]
  },
  {
   "cell_type": "code",
   "metadata": {
    "collapsed": false,
    "pycharm": {
     "name": "#%%\n"
    },
    "ExecuteTime": {
     "end_time": "2025-05-14T03:28:27.274107Z",
     "start_time": "2025-05-14T03:28:26.577078Z"
    }
   },
   "source": [
    "# 1. sepal_length (in cm)\n",
    "# 2. sepal_width (in cm)\n",
    "# 3. petal_length (in cm)\n",
    "# 4. petal_width (in cm)\n",
    "# 5. class\n",
    "column_names = ['sepal_length', 'sepal_width', 'petal_length', 'petal_width', 'class']\n",
    "iris = pd.read_csv(url, header=None, names=column_names)\n",
    "print(iris)"
   ],
   "outputs": [
    {
     "name": "stdout",
     "output_type": "stream",
     "text": [
      "     sepal_length  sepal_width  petal_length  petal_width           class\n",
      "0             5.1          3.5           1.4          0.2     Iris-setosa\n",
      "1             4.9          3.0           1.4          0.2     Iris-setosa\n",
      "2             4.7          3.2           1.3          0.2     Iris-setosa\n",
      "3             4.6          3.1           1.5          0.2     Iris-setosa\n",
      "4             5.0          3.6           1.4          0.2     Iris-setosa\n",
      "..            ...          ...           ...          ...             ...\n",
      "145           6.7          3.0           5.2          2.3  Iris-virginica\n",
      "146           6.3          2.5           5.0          1.9  Iris-virginica\n",
      "147           6.5          3.0           5.2          2.0  Iris-virginica\n",
      "148           6.2          3.4           5.4          2.3  Iris-virginica\n",
      "149           5.9          3.0           5.1          1.8  Iris-virginica\n",
      "\n",
      "[150 rows x 5 columns]\n"
     ]
    }
   ],
   "execution_count": 8
  },
  {
   "cell_type": "markdown",
   "metadata": {
    "pycharm": {
     "name": "#%% md\n"
    }
   },
   "source": [
    "### Step 5.  Is there any missing value in the dataframe?"
   ]
  },
  {
   "cell_type": "code",
   "metadata": {
    "collapsed": false,
    "pycharm": {
     "name": "#%%\n"
    },
    "ExecuteTime": {
     "end_time": "2025-05-14T03:28:47.633977Z",
     "start_time": "2025-05-14T03:28:47.629249Z"
    }
   },
   "source": [
    "missing_values = iris.isnull().sum()\n",
    "print(missing_values)"
   ],
   "outputs": [
    {
     "name": "stdout",
     "output_type": "stream",
     "text": [
      "sepal_length    0\n",
      "sepal_width     0\n",
      "petal_length    0\n",
      "petal_width     0\n",
      "class           0\n",
      "dtype: int64\n"
     ]
    }
   ],
   "execution_count": 9
  },
  {
   "cell_type": "markdown",
   "metadata": {
    "pycharm": {
     "name": "#%% md\n"
    }
   },
   "source": [
    "### Step 6.  Lets set the values of the rows 10 to 29 of the column 'petal_length' to NaN"
   ]
  },
  {
   "cell_type": "code",
   "metadata": {
    "collapsed": false,
    "pycharm": {
     "name": "#%%\n"
    },
    "ExecuteTime": {
     "end_time": "2025-05-14T03:29:20.771097Z",
     "start_time": "2025-05-14T03:29:20.764513Z"
    }
   },
   "source": [
    "iris.loc[10:29, 'petal_length'] = np.nan\n",
    "print(iris.loc[10:29, ['petal_length']])"
   ],
   "outputs": [
    {
     "name": "stdout",
     "output_type": "stream",
     "text": [
      "    petal_length\n",
      "10           NaN\n",
      "11           NaN\n",
      "12           NaN\n",
      "13           NaN\n",
      "14           NaN\n",
      "15           NaN\n",
      "16           NaN\n",
      "17           NaN\n",
      "18           NaN\n",
      "19           NaN\n",
      "20           NaN\n",
      "21           NaN\n",
      "22           NaN\n",
      "23           NaN\n",
      "24           NaN\n",
      "25           NaN\n",
      "26           NaN\n",
      "27           NaN\n",
      "28           NaN\n",
      "29           NaN\n"
     ]
    }
   ],
   "execution_count": 11
  },
  {
   "cell_type": "markdown",
   "metadata": {
    "pycharm": {
     "name": "#%% md\n"
    }
   },
   "source": [
    "### Step 7. Good, now lets substitute the NaN values to 1.0"
   ]
  },
  {
   "cell_type": "code",
   "metadata": {
    "collapsed": false,
    "pycharm": {
     "name": "#%%\n"
    },
    "ExecuteTime": {
     "end_time": "2025-05-14T03:29:53.472272Z",
     "start_time": "2025-05-14T03:29:53.465056Z"
    }
   },
   "source": [
    "iris['petal_length'] = iris['petal_length'].fillna(1.0)\n",
    "print(iris.loc[10:29, ['petal_length']])"
   ],
   "outputs": [
    {
     "name": "stdout",
     "output_type": "stream",
     "text": [
      "    petal_length\n",
      "10           1.0\n",
      "11           1.0\n",
      "12           1.0\n",
      "13           1.0\n",
      "14           1.0\n",
      "15           1.0\n",
      "16           1.0\n",
      "17           1.0\n",
      "18           1.0\n",
      "19           1.0\n",
      "20           1.0\n",
      "21           1.0\n",
      "22           1.0\n",
      "23           1.0\n",
      "24           1.0\n",
      "25           1.0\n",
      "26           1.0\n",
      "27           1.0\n",
      "28           1.0\n",
      "29           1.0\n"
     ]
    }
   ],
   "execution_count": 12
  },
  {
   "cell_type": "markdown",
   "metadata": {
    "pycharm": {
     "name": "#%% md\n"
    }
   },
   "source": [
    "### Step 8. Now let's delete the column class"
   ]
  },
  {
   "cell_type": "code",
   "metadata": {
    "collapsed": false,
    "pycharm": {
     "name": "#%%\n"
    },
    "ExecuteTime": {
     "end_time": "2025-05-14T03:30:15.532967Z",
     "start_time": "2025-05-14T03:30:15.525586Z"
    }
   },
   "source": [
    "iris = iris.drop('class', axis=1)\n",
    "print(iris)"
   ],
   "outputs": [
    {
     "name": "stdout",
     "output_type": "stream",
     "text": [
      "     sepal_length  sepal_width  petal_length  petal_width\n",
      "0             5.1          3.5           1.4          0.2\n",
      "1             4.9          3.0           1.4          0.2\n",
      "2             4.7          3.2           1.3          0.2\n",
      "3             4.6          3.1           1.5          0.2\n",
      "4             5.0          3.6           1.4          0.2\n",
      "..            ...          ...           ...          ...\n",
      "145           6.7          3.0           5.2          2.3\n",
      "146           6.3          2.5           5.0          1.9\n",
      "147           6.5          3.0           5.2          2.0\n",
      "148           6.2          3.4           5.4          2.3\n",
      "149           5.9          3.0           5.1          1.8\n",
      "\n",
      "[150 rows x 4 columns]\n"
     ]
    }
   ],
   "execution_count": 13
  },
  {
   "cell_type": "markdown",
   "metadata": {
    "pycharm": {
     "name": "#%% md\n"
    }
   },
   "source": [
    "### Step 9.  Set the first 3 rows as NaN"
   ]
  },
  {
   "cell_type": "code",
   "metadata": {
    "collapsed": false,
    "pycharm": {
     "name": "#%%\n"
    },
    "ExecuteTime": {
     "end_time": "2025-05-14T03:30:44.009653Z",
     "start_time": "2025-05-14T03:30:44.002455Z"
    }
   },
   "source": [
    "iris.iloc[0:3] = np.nan\n",
    "print(iris)"
   ],
   "outputs": [
    {
     "name": "stdout",
     "output_type": "stream",
     "text": [
      "     sepal_length  sepal_width  petal_length  petal_width\n",
      "0             NaN          NaN           NaN          NaN\n",
      "1             NaN          NaN           NaN          NaN\n",
      "2             NaN          NaN           NaN          NaN\n",
      "3             4.6          3.1           1.5          0.2\n",
      "4             5.0          3.6           1.4          0.2\n",
      "..            ...          ...           ...          ...\n",
      "145           6.7          3.0           5.2          2.3\n",
      "146           6.3          2.5           5.0          1.9\n",
      "147           6.5          3.0           5.2          2.0\n",
      "148           6.2          3.4           5.4          2.3\n",
      "149           5.9          3.0           5.1          1.8\n",
      "\n",
      "[150 rows x 4 columns]\n"
     ]
    }
   ],
   "execution_count": 14
  },
  {
   "cell_type": "markdown",
   "metadata": {
    "pycharm": {
     "name": "#%% md\n"
    }
   },
   "source": [
    "### Step 10.  Delete the rows that have NaN"
   ]
  },
  {
   "cell_type": "code",
   "metadata": {
    "collapsed": false,
    "pycharm": {
     "name": "#%%\n"
    },
    "ExecuteTime": {
     "end_time": "2025-05-14T03:31:15.012046Z",
     "start_time": "2025-05-14T03:31:15.004613Z"
    }
   },
   "source": [
    "iris = iris.dropna()\n",
    "print(iris.head())"
   ],
   "outputs": [
    {
     "name": "stdout",
     "output_type": "stream",
     "text": [
      "   sepal_length  sepal_width  petal_length  petal_width\n",
      "3           4.6          3.1           1.5          0.2\n",
      "4           5.0          3.6           1.4          0.2\n",
      "5           5.4          3.9           1.7          0.4\n",
      "6           4.6          3.4           1.4          0.3\n",
      "7           5.0          3.4           1.5          0.2\n"
     ]
    }
   ],
   "execution_count": 15
  },
  {
   "cell_type": "markdown",
   "metadata": {
    "pycharm": {
     "name": "#%% md\n"
    }
   },
   "source": [
    "### Step 11. Reset the index so it begins with 0 again"
   ]
  },
  {
   "cell_type": "code",
   "metadata": {
    "collapsed": false,
    "pycharm": {
     "name": "#%%\n"
    },
    "ExecuteTime": {
     "end_time": "2025-05-14T03:31:33.573875Z",
     "start_time": "2025-05-14T03:31:33.566778Z"
    }
   },
   "source": [
    "iris = iris.reset_index(drop=True)\n",
    "print(iris.head())"
   ],
   "outputs": [
    {
     "name": "stdout",
     "output_type": "stream",
     "text": [
      "   sepal_length  sepal_width  petal_length  petal_width\n",
      "0           4.6          3.1           1.5          0.2\n",
      "1           5.0          3.6           1.4          0.2\n",
      "2           5.4          3.9           1.7          0.4\n",
      "3           4.6          3.4           1.4          0.3\n",
      "4           5.0          3.4           1.5          0.2\n"
     ]
    }
   ],
   "execution_count": 16
  },
  {
   "cell_type": "markdown",
   "metadata": {
    "pycharm": {
     "name": "#%% md\n"
    }
   },
   "source": [
    "### BONUS: Create your own question and answer it."
   ]
  },
  {
   "cell_type": "code",
   "metadata": {
    "collapsed": true,
    "pycharm": {
     "name": "#%%\n"
    },
    "ExecuteTime": {
     "end_time": "2025-05-14T03:32:54.519489Z",
     "start_time": "2025-05-14T03:32:54.369095Z"
    }
   },
   "source": [
    "### BONUS: Tạo câu hỏi và trả lời (không dùng cột 'class')\n",
    "\n",
    "# Tìm giá trị petal_length lớn nhất\n",
    "max_petal_length = iris['petal_length'].max()\n",
    "\n",
    "# Lấy các dòng có giá trị petal_length lớn nhất\n",
    "max_petal_length_rows = iris[iris['petal_length'] == max_petal_length]\n",
    "\n",
    "# In ra kết quả câu hỏi (loại hoa có chiều dài cánh hoa lớn nhất)\n",
    "print(f\"Chiều dài cánh hoa lớn nhất là: {max_petal_length:.2f}\")\n",
    "print(\"Các dòng có giá trị petal_length lớn nhất:\")\n",
    "print(max_petal_length_rows)\n",
    "\n",
    "# Vẽ biểu đồ để minh họa chiều dài cánh hoa của các loại hoa\n",
    "import matplotlib.pyplot as plt\n",
    "\n",
    "# Vẽ boxplot cho cột petal_length\n",
    "plt.figure(figsize=(8, 6))\n",
    "iris.boxplot(column='petal_length', grid=False, patch_artist=True)\n",
    "plt.title('Chiều Dài Cánh Hoa')\n",
    "plt.suptitle('')  # Xóa tiêu đề mặc định\n",
    "plt.xlabel('Loại Hoa')\n",
    "plt.ylabel('Chiều Dài Cánh Hoa')\n",
    "plt.show()\n"
   ],
   "outputs": [
    {
     "name": "stdout",
     "output_type": "stream",
     "text": [
      "Chiều dài cánh hoa lớn nhất là: 6.90\n",
      "Các dòng có giá trị petal_length lớn nhất:\n",
      "     sepal_length  sepal_width  petal_length  petal_width\n",
      "115           7.7          2.6           6.9          2.3\n"
     ]
    },
    {
     "data": {
      "text/plain": [
       "<Figure size 800x600 with 1 Axes>"
      ],
      "image/png": "[encoded data removed]"
     },
     "metadata": {},
     "output_type": "display_data"
    }
   ],
   "execution_count": 18
  }
 ],
 "metadata": {
  "kernelspec": {
   "display_name": "Python 3 (ipykernel)",
   "language": "python",
   "name": "python3"
  },
  "language_info": {
   "codemirror_mode": {
    "name": "ipython",
    "version": 2
   },
   "file_extension": ".py",
   "mimetype": "text/x-python",
   "name": "python",
   "nbconvert_exporter": "python",
   "pygments_lexer": "ipython2",
   "version": "2.7.11"
  }
 },
 "nbformat": 4,
 "nbformat_minor": 0
}
