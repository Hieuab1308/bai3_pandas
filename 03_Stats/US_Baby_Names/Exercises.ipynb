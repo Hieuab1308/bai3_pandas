{
 "cells": [
  {
   "cell_type": "markdown",
   "metadata": {
    "pycharm": {
     "name": "#%% md\n"
    }
   },
   "source": [
    "# US - Baby Names"
   ]
  },
  {
   "cell_type": "markdown",
   "metadata": {
    "pycharm": {
     "name": "#%% md\n"
    }
   },
   "source": [
    "### Introduction:\n",
    "\n",
    "We are going to use a subset of [US Baby Names](https://www.kaggle.com/kaggle/us-baby-names) from Kaggle.  \n",
    "In the file it will be names from 2004 until 2014\n",
    "\n",
    "\n",
    "### Step 1. Import the necessary libraries"
   ]
  },
  {
   "cell_type": "code",
   "metadata": {
    "collapsed": false,
    "pycharm": {
     "name": "#%%\n"
    },
    "ExecuteTime": {
     "end_time": "2025-05-14T00:56:06.023163Z",
     "start_time": "2025-05-14T00:56:06.016542Z"
    }
   },
   "source": [
    "import pandas as pd\n",
    "import numpy as np\n",
    "import matplotlib.pyplot as plt\n",
    "import seaborn as sns\n"
   ],
   "outputs": [],
   "execution_count": 3
  },
  {
   "cell_type": "markdown",
   "metadata": {
    "pycharm": {
     "name": "#%% md\n"
    }
   },
   "source": [
    "### Step 2. Import the dataset from this [address](https://raw.githubusercontent.com/thieu1995/csv-files/main/data/pandas/US_Baby_Names_right.csv)."
   ]
  },
  {
   "cell_type": "markdown",
   "metadata": {
    "pycharm": {
     "name": "#%% md\n"
    }
   },
   "source": [
    "### Step 3. Assign it to a variable called baby_names."
   ]
  },
  {
   "cell_type": "code",
   "metadata": {
    "collapsed": false,
    "pycharm": {
     "name": "#%%\n"
    },
    "ExecuteTime": {
     "end_time": "2025-05-14T01:22:21.184895Z",
     "start_time": "2025-05-14T01:22:13.240672Z"
    }
   },
   "source": [
    "url = \"https://raw.githubusercontent.com/thieu1995/csv-files/main/data/pandas/US_Baby_Names_right.csv\"\n",
    "baby_names = pd.read_csv(url)\n",
    "print(baby_names)"
   ],
   "outputs": [
    {
     "name": "stdout",
     "output_type": "stream",
     "text": [
      "         Unnamed: 0       Id     Name  Year Gender State  Count\n",
      "0             11349    11350     Emma  2004      F    AK     62\n",
      "1             11350    11351  Madison  2004      F    AK     48\n",
      "2             11351    11352   Hannah  2004      F    AK     46\n",
      "3             11352    11353    Grace  2004      F    AK     44\n",
      "4             11353    11354    Emily  2004      F    AK     41\n",
      "...             ...      ...      ...   ...    ...   ...    ...\n",
      "1016390     5647421  5647422     Seth  2014      M    WY      5\n",
      "1016391     5647422  5647423  Spencer  2014      M    WY      5\n",
      "1016392     5647423  5647424     Tyce  2014      M    WY      5\n",
      "1016393     5647424  5647425   Victor  2014      M    WY      5\n",
      "1016394     5647425  5647426   Waylon  2014      M    WY      5\n",
      "\n",
      "[1016395 rows x 7 columns]\n"
     ]
    }
   ],
   "execution_count": 20
  },
  {
   "cell_type": "markdown",
   "metadata": {
    "pycharm": {
     "name": "#%% md\n"
    }
   },
   "source": [
    "### Step 4. See the first 10 entries"
   ]
  },
  {
   "cell_type": "code",
   "metadata": {
    "collapsed": false,
    "pycharm": {
     "name": "#%%\n"
    },
    "ExecuteTime": {
     "end_time": "2025-05-14T01:22:56.149659Z",
     "start_time": "2025-05-14T01:22:56.131066Z"
    }
   },
   "source": "baby_names.head(10)",
   "outputs": [
    {
     "data": {
      "text/plain": [
       "   Unnamed: 0     Id      Name  Year Gender State  Count\n",
       "0       11349  11350      Emma  2004      F    AK     62\n",
       "1       11350  11351   Madison  2004      F    AK     48\n",
       "2       11351  11352    Hannah  2004      F    AK     46\n",
       "3       11352  11353     Grace  2004      F    AK     44\n",
       "4       11353  11354     Emily  2004      F    AK     41\n",
       "5       11354  11355   Abigail  2004      F    AK     37\n",
       "6       11355  11356    Olivia  2004      F    AK     33\n",
       "7       11356  11357  Isabella  2004      F    AK     30\n",
       "8       11357  11358    Alyssa  2004      F    AK     29\n",
       "9       11358  11359    Sophia  2004      F    AK     28"
      ],
      "text/html": [
       "<div>\n",
       "<style scoped>\n",
       "    .dataframe tbody tr th:only-of-type {\n",
       "        vertical-align: middle;\n",
       "    }\n",
       "\n",
       "    .dataframe tbody tr th {\n",
       "        vertical-align: top;\n",
       "    }\n",
       "\n",
       "    .dataframe thead th {\n",
       "        text-align: right;\n",
       "    }\n",
       "</style>\n",
       "<table border=\"1\" class=\"dataframe\">\n",
       "  <thead>\n",
       "    <tr style=\"text-align: right;\">\n",
       "      <th></th>\n",
       "      <th>Unnamed: 0</th>\n",
       "      <th>Id</th>\n",
       "      <th>Name</th>\n",
       "      <th>Year</th>\n",
       "      <th>Gender</th>\n",
       "      <th>State</th>\n",
       "      <th>Count</th>\n",
       "    </tr>\n",
       "  </thead>\n",
       "  <tbody>\n",
       "    <tr>\n",
       "      <th>0</th>\n",
       "      <td>11349</td>\n",
       "      <td>11350</td>\n",
       "      <td>Emma</td>\n",
       "      <td>2004</td>\n",
       "      <td>F</td>\n",
       "      <td>AK</td>\n",
       "      <td>62</td>\n",
       "    </tr>\n",
       "    <tr>\n",
       "      <th>1</th>\n",
       "      <td>11350</td>\n",
       "      <td>11351</td>\n",
       "      <td>Madison</td>\n",
       "      <td>2004</td>\n",
       "      <td>F</td>\n",
       "      <td>AK</td>\n",
       "      <td>48</td>\n",
       "    </tr>\n",
       "    <tr>\n",
       "      <th>2</th>\n",
       "      <td>11351</td>\n",
       "      <td>11352</td>\n",
       "      <td>Hannah</td>\n",
       "      <td>2004</td>\n",
       "      <td>F</td>\n",
       "      <td>AK</td>\n",
       "      <td>46</td>\n",
       "    </tr>\n",
       "    <tr>\n",
       "      <th>3</th>\n",
       "      <td>11352</td>\n",
       "      <td>11353</td>\n",
       "      <td>Grace</td>\n",
       "      <td>2004</td>\n",
       "      <td>F</td>\n",
       "      <td>AK</td>\n",
       "      <td>44</td>\n",
       "    </tr>\n",
       "    <tr>\n",
       "      <th>4</th>\n",
       "      <td>11353</td>\n",
       "      <td>11354</td>\n",
       "      <td>Emily</td>\n",
       "      <td>2004</td>\n",
       "      <td>F</td>\n",
       "      <td>AK</td>\n",
       "      <td>41</td>\n",
       "    </tr>\n",
       "    <tr>\n",
       "      <th>5</th>\n",
       "      <td>11354</td>\n",
       "      <td>11355</td>\n",
       "      <td>Abigail</td>\n",
       "      <td>2004</td>\n",
       "      <td>F</td>\n",
       "      <td>AK</td>\n",
       "      <td>37</td>\n",
       "    </tr>\n",
       "    <tr>\n",
       "      <th>6</th>\n",
       "      <td>11355</td>\n",
       "      <td>11356</td>\n",
       "      <td>Olivia</td>\n",
       "      <td>2004</td>\n",
       "      <td>F</td>\n",
       "      <td>AK</td>\n",
       "      <td>33</td>\n",
       "    </tr>\n",
       "    <tr>\n",
       "      <th>7</th>\n",
       "      <td>11356</td>\n",
       "      <td>11357</td>\n",
       "      <td>Isabella</td>\n",
       "      <td>2004</td>\n",
       "      <td>F</td>\n",
       "      <td>AK</td>\n",
       "      <td>30</td>\n",
       "    </tr>\n",
       "    <tr>\n",
       "      <th>8</th>\n",
       "      <td>11357</td>\n",
       "      <td>11358</td>\n",
       "      <td>Alyssa</td>\n",
       "      <td>2004</td>\n",
       "      <td>F</td>\n",
       "      <td>AK</td>\n",
       "      <td>29</td>\n",
       "    </tr>\n",
       "    <tr>\n",
       "      <th>9</th>\n",
       "      <td>11358</td>\n",
       "      <td>11359</td>\n",
       "      <td>Sophia</td>\n",
       "      <td>2004</td>\n",
       "      <td>F</td>\n",
       "      <td>AK</td>\n",
       "      <td>28</td>\n",
       "    </tr>\n",
       "  </tbody>\n",
       "</table>\n",
       "</div>"
      ]
     },
     "execution_count": 21,
     "metadata": {},
     "output_type": "execute_result"
    }
   ],
   "execution_count": 21
  },
  {
   "cell_type": "markdown",
   "metadata": {
    "pycharm": {
     "name": "#%% md\n"
    }
   },
   "source": [
    "### Step 5. Delete the column 'Unnamed: 0' and 'Id'"
   ]
  },
  {
   "cell_type": "code",
   "metadata": {
    "collapsed": false,
    "pycharm": {
     "name": "#%%\n"
    },
    "ExecuteTime": {
     "end_time": "2025-05-14T01:24:04.642058Z",
     "start_time": "2025-05-14T01:24:04.576894Z"
    }
   },
   "source": [
    "baby_names = baby_names.drop(columns=['Unnamed: 0', 'Id'], errors='ignore')\n",
    "print(baby_names.columns)"
   ],
   "outputs": [
    {
     "name": "stdout",
     "output_type": "stream",
     "text": [
      "Index(['Name', 'Year', 'Gender', 'State', 'Count'], dtype='object')\n"
     ]
    }
   ],
   "execution_count": 24
  },
  {
   "cell_type": "markdown",
   "metadata": {
    "pycharm": {
     "name": "#%% md\n"
    }
   },
   "source": [
    "### Step 6. Is there more male or female names in the dataset?"
   ]
  },
  {
   "cell_type": "code",
   "metadata": {
    "collapsed": false,
    "pycharm": {
     "name": "#%%\n"
    },
    "ExecuteTime": {
     "end_time": "2025-05-14T01:24:10.295162Z",
     "start_time": "2025-05-14T01:24:10.208933Z"
    }
   },
   "source": [
    "# Đếm số lượng mỗi giới tính\n",
    "gender_counts = baby_names['Gender'].value_counts()\n",
    "\n",
    "# Hiển thị kết quả\n",
    "print(gender_counts)\n",
    "\n",
    "# So sánh và in kết quả\n",
    "if gender_counts['M'] > gender_counts['F']:\n",
    "    print(\"Có nhiều tên nam hơn trong dữ liệu.\")\n",
    "else:\n",
    "    print(\"Có nhiều tên nữ hơn trong dữ liệu.\")\n"
   ],
   "outputs": [
    {
     "name": "stdout",
     "output_type": "stream",
     "text": [
      "Gender\n",
      "F    558846\n",
      "M    457549\n",
      "Name: count, dtype: int64\n",
      "Có nhiều tên nữ hơn trong dữ liệu.\n"
     ]
    }
   ],
   "execution_count": 25
  },
  {
   "cell_type": "markdown",
   "metadata": {
    "pycharm": {
     "name": "#%% md\n"
    }
   },
   "source": [
    "### Step 7. Group the dataset by name and assign to names"
   ]
  },
  {
   "cell_type": "code",
   "metadata": {
    "collapsed": false,
    "pycharm": {
     "name": "#%%\n"
    },
    "ExecuteTime": {
     "end_time": "2025-05-14T01:25:14.668842Z",
     "start_time": "2025-05-14T01:25:14.449312Z"
    }
   },
   "source": [
    "names = baby_names.groupby('Name')\n",
    "print(names.size())"
   ],
   "outputs": [
    {
     "name": "stdout",
     "output_type": "stream",
     "text": [
      "Name\n",
      "Aaban        2\n",
      "Aadan        4\n",
      "Aadarsh      1\n",
      "Aaden      196\n",
      "Aadhav       1\n",
      "          ... \n",
      "Zyra         7\n",
      "Zyrah        2\n",
      "Zyren        1\n",
      "Zyria       10\n",
      "Zyriah       9\n",
      "Length: 17632, dtype: int64\n"
     ]
    }
   ],
   "execution_count": 27
  },
  {
   "cell_type": "markdown",
   "metadata": {
    "pycharm": {
     "name": "#%% md\n"
    }
   },
   "source": [
    "### Step 8. How many different names exist in the dataset?"
   ]
  },
  {
   "cell_type": "code",
   "metadata": {
    "collapsed": false,
    "pycharm": {
     "name": "#%%\n"
    },
    "ExecuteTime": {
     "end_time": "2025-05-14T01:25:35.088735Z",
     "start_time": "2025-05-14T01:25:34.903752Z"
    }
   },
   "source": [
    "num_unique_names = baby_names['Name'].nunique()\n",
    "\n",
    "print(f\"Số lượng tên khác nhau trong dataset là: {num_unique_names}\")"
   ],
   "outputs": [
    {
     "name": "stdout",
     "output_type": "stream",
     "text": [
      "Số lượng tên khác nhau trong dataset là: 17632\n"
     ]
    }
   ],
   "execution_count": 28
  },
  {
   "cell_type": "markdown",
   "metadata": {
    "pycharm": {
     "name": "#%% md\n"
    }
   },
   "source": [
    "### Step 9. What is the name with most occurrences?"
   ]
  },
  {
   "cell_type": "code",
   "metadata": {
    "collapsed": false,
    "pycharm": {
     "name": "#%%\n"
    },
    "ExecuteTime": {
     "end_time": "2025-05-14T01:25:59.662578Z",
     "start_time": "2025-05-14T01:25:59.329187Z"
    }
   },
   "source": [
    "most_common_name = baby_names['Name'].value_counts().idxmax()\n",
    "most_common_name_count = baby_names['Name'].value_counts().max()\n",
    "\n",
    "print(f\"Tên xuất hiện nhiều nhất là: {most_common_name} với {most_common_name_count} lần.\")"
   ],
   "outputs": [
    {
     "name": "stdout",
     "output_type": "stream",
     "text": [
      "Tên xuất hiện nhiều nhất là: Riley với 1112 lần.\n"
     ]
    }
   ],
   "execution_count": 29
  },
  {
   "cell_type": "markdown",
   "metadata": {
    "pycharm": {
     "name": "#%% md\n"
    }
   },
   "source": [
    "### Step 10. How many different names have the least occurrences?"
   ]
  },
  {
   "cell_type": "code",
   "metadata": {
    "collapsed": false,
    "pycharm": {
     "name": "#%%\n"
    },
    "ExecuteTime": {
     "end_time": "2025-05-14T01:27:09.929789Z",
     "start_time": "2025-05-14T01:27:09.764921Z"
    }
   },
   "source": [
    "# Đếm số lần xuất hiện của mỗi tên\n",
    "name_counts = baby_names['Name'].value_counts()\n",
    "\n",
    "# Tìm số lần xuất hiện ít nhất\n",
    "min_occurrences = name_counts.min()\n",
    "\n",
    "# Đếm số lượng tên có số lần xuất hiện ít nhất\n",
    "num_names_with_least_occurrences = (name_counts == min_occurrences).sum()\n",
    "\n",
    "print(f\"Số lượng tên có số lần xuất hiện ít nhất là: {num_names_with_least_occurrences}\")\n"
   ],
   "outputs": [
    {
     "name": "stdout",
     "output_type": "stream",
     "text": [
      "Số lượng tên có số lần xuất hiện ít nhất là: 3682\n"
     ]
    }
   ],
   "execution_count": 30
  },
  {
   "cell_type": "markdown",
   "metadata": {
    "pycharm": {
     "name": "#%% md\n"
    }
   },
   "source": [
    "### Step 11. What is the median name occurrence?"
   ]
  },
  {
   "cell_type": "code",
   "metadata": {
    "collapsed": false,
    "pycharm": {
     "name": "#%%\n"
    },
    "ExecuteTime": {
     "end_time": "2025-05-14T01:27:28.731310Z",
     "start_time": "2025-05-14T01:27:28.549370Z"
    }
   },
   "source": [
    "# Đếm số lần xuất hiện của mỗi tên\n",
    "name_counts = baby_names['Name'].value_counts()\n",
    "\n",
    "# Tính giá trị trung vị của số lần xuất hiện\n",
    "median_occurrence = name_counts.median()\n",
    "\n",
    "print(f\"Trung vị của số lần xuất hiện tên là: {median_occurrence}\")\n",
    "\n"
   ],
   "outputs": [
    {
     "name": "stdout",
     "output_type": "stream",
     "text": [
      "Trung vị của số lần xuất hiện tên là: 8.0\n"
     ]
    }
   ],
   "execution_count": 31
  },
  {
   "cell_type": "markdown",
   "metadata": {
    "pycharm": {
     "name": "#%% md\n"
    }
   },
   "source": [
    "### Step 12. What is the standard deviation of names?"
   ]
  },
  {
   "cell_type": "code",
   "metadata": {
    "collapsed": false,
    "pycharm": {
     "name": "#%%\n"
    },
    "ExecuteTime": {
     "end_time": "2025-05-14T01:27:48.193412Z",
     "start_time": "2025-05-14T01:27:48.020669Z"
    }
   },
   "source": [
    "# Đếm số lần xuất hiện của mỗi tên\n",
    "name_counts = baby_names['Name'].value_counts()\n",
    "\n",
    "# Tính độ lệch chuẩn của số lần xuất hiện\n",
    "std_deviation = name_counts.std()\n",
    "\n",
    "print(f\"Độ lệch chuẩn của số lần xuất hiện tên là: {std_deviation}\")\n"
   ],
   "outputs": [
    {
     "name": "stdout",
     "output_type": "stream",
     "text": [
      "Độ lệch chuẩn của số lần xuất hiện tên là: 122.0299635081389\n"
     ]
    }
   ],
   "execution_count": 32
  },
  {
   "cell_type": "markdown",
   "metadata": {
    "pycharm": {
     "name": "#%% md\n"
    }
   },
   "source": [
    "### Step 13. Get a summary with the mean, min, max, std and quartiles."
   ]
  },
  {
   "cell_type": "code",
   "metadata": {
    "collapsed": false,
    "pycharm": {
     "name": "#%%\n"
    },
    "ExecuteTime": {
     "end_time": "2025-05-14T01:28:24.267777Z",
     "start_time": "2025-05-14T01:28:24.096771Z"
    }
   },
   "source": [
    "# Đếm số lần xuất hiện của mỗi tên\n",
    "name_counts = baby_names['Name'].value_counts()\n",
    "\n",
    "# Tóm tắt thống kê với mean, min, max, std và quartiles\n",
    "summary = name_counts.describe()\n",
    "\n",
    "print(\"Bản tóm tắt thống kê:\\n\", summary)\n"
   ],
   "outputs": [
    {
     "name": "stdout",
     "output_type": "stream",
     "text": [
      "Bản tóm tắt thống kê:\n",
      " count    17632.000000\n",
      "mean        57.644907\n",
      "std        122.029964\n",
      "min          1.000000\n",
      "25%          2.000000\n",
      "50%          8.000000\n",
      "75%         39.000000\n",
      "max       1112.000000\n",
      "Name: count, dtype: float64\n"
     ]
    }
   ],
   "execution_count": 33
  }
 ],
 "metadata": {
  "anaconda-cloud": {},
  "kernelspec": {
   "display_name": "Python 3 (ipykernel)",
   "language": "python",
   "name": "python3"
  },
  "language_info": {
   "codemirror_mode": {
    "name": "ipython",
    "version": 2
   },
   "file_extension": ".py",
   "mimetype": "text/x-python",
   "name": "python",
   "nbconvert_exporter": "python",
   "pygments_lexer": "ipython2",
   "version": "2.7.11"
  }
 },
 "nbformat": 4,
 "nbformat_minor": 0
}
